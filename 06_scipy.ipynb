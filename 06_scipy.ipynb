{
 "cells": [
  {
   "cell_type": "markdown",
   "metadata": {},
   "source": [
    "# SciPy"
   ]
  },
  {
   "cell_type": "markdown",
   "metadata": {},
   "source": [
    "SciPy build on top of NumPy to provide common tools for scientific programming. For example, it providees, amongst others:\n",
    "\n",
    "* linear algebra\n",
    "* numerical integration\n",
    "* interpolation\n",
    "* optimiation\n",
    "* distributions and random number generators\n",
    "* signal processing\n",
    "* etc...\n",
    "\n",
    "Here's some of the highlights of the package (there are many many more features - google it)\n"
   ]
  },
  {
   "cell_type": "markdown",
   "metadata": {},
   "source": [
    "## SciPy vs NumPy\n",
    "\n",
    "SciPy is apackage that contains various tools built on top of NumPy using it's array data type and elated functionality.\n",
    "\n",
    "When we import scipy we get numpy, however it's more common to explicitly import it.\n",
    "\n",
    "What is useful on scipy is functionality in it's subpackages, for example:\n",
    "\n",
    "`scipy.optimize`, `scipy.integrate`, `scipy.stats`, etc."
   ]
  },
  {
   "cell_type": "markdown",
   "metadata": {},
   "source": [
    "## Statistics\n",
    "\n",
    "The `scipy.stats` subpackage supplies\n",
    "\n",
    "* numerous random vaiable objects (densities, cumulative distributions, random sampling, etc)\n",
    "* some estimation procedures\n",
    "* some statistical tests\n"
   ]
  },
  {
   "cell_type": "markdown",
   "metadata": {},
   "source": [
    "### Random Variables and Distributions\n",
    "\n",
    "Recall `numpy.random` provies functions for generation random variables:"
   ]
  },
  {
   "cell_type": "code",
   "execution_count": 1,
   "metadata": {},
   "outputs": [
    {
     "data": {
      "text/plain": [
       "array([0.79784437, 0.23796164, 0.58849165])"
      ]
     },
     "execution_count": 1,
     "metadata": {},
     "output_type": "execute_result"
    }
   ],
   "source": [
    "import numpy as np\n",
    "\n",
    "np.random.beta(5, 5, size=3)"
   ]
  },
  {
   "cell_type": "markdown",
   "metadata": {},
   "source": [
    "This generates a draw from the distribution below when `a, b = 5, 5`"
   ]
  },
  {
   "cell_type": "markdown",
   "metadata": {},
   "source": [
    "$$f(x;a, b) = {{x^{(a-1)}(1-x)^{(b-1)}} \\over {\\int_{0}^{1} u^{(a-1)}u^{(b-1)}du}} \\quad \\quad (0 \\le x \\le 1)$$ "
   ]
  },
  {
   "cell_type": "markdown",
   "metadata": {},
   "source": [
    "This function is the probability density function (pdf) of the beta distribution.\n",
    "\n",
    "Sometimes we need access to the density, or the cumulative distribution function (cdf), the quantiles, etc\n",
    "\n",
    "For this we can use `scipy.stats`, which provides all the functionality as well as random number generation in a single consistant interface\n",
    "\n",
    "Here's an example of usage:"
   ]
  },
  {
   "cell_type": "code",
   "execution_count": 2,
   "metadata": {},
   "outputs": [
    {
     "data": {
      "text/plain": [
       "<matplotlib.figure.Figure at 0x109a276d8>"
      ]
     },
     "metadata": {},
     "output_type": "display_data"
    }
   ],
   "source": [
    "from scipy.stats import beta\n",
    "import matplotlib.pyplot as plt\n",
    "\n",
    "q = beta(5,5)\n",
    "obs = q.rvs(2000)\n",
    "grid = np.linspace(0.01, 0.99, 100)\n",
    "\n",
    "fig, ax = plt.subplots(figsize=(10,6))\n",
    "ax.hist(obs, bins=40, normed=True)\n",
    "ax.plot(grid, q.pdf(grid), 'k-', linewidth=2, label='pdf')\n",
    "ax.plot(grid, q.cdf(grid), 'r-', linewidth=2, label='cdf')\n",
    "ax.plot(grid, q.ppf(grid), 'g-', linewidth=2, label='ppf')\n",
    "ax.legend()\n",
    "plt.show()\n"
   ]
  },
  {
   "cell_type": "markdown",
   "metadata": {},
   "source": [
    "In this code we created a so=call `rv-frozen` object, via the call `q = beta(5,5)`\n",
    "\n",
    "The \"frozen\" part of the notation implies that `q` represent a particular distribution with a particular set of parameters.\n",
    "\n",
    "Once we've done this we can then generate random numbers, evaluate the density, etc. all from this fixed distribution. "
   ]
  },
  {
   "cell_type": "code",
   "execution_count": 3,
   "metadata": {},
   "outputs": [
    {
     "data": {
      "text/plain": [
       "0.26656768000000003"
      ]
     },
     "execution_count": 3,
     "metadata": {},
     "output_type": "execute_result"
    }
   ],
   "source": [
    "q.cdf(0.4)"
   ]
  },
  {
   "cell_type": "code",
   "execution_count": 4,
   "metadata": {},
   "outputs": [
    {
     "data": {
      "text/plain": [
       "2.0901888000000013"
      ]
     },
     "execution_count": 4,
     "metadata": {},
     "output_type": "execute_result"
    }
   ],
   "source": [
    "q.pdf(0.4)"
   ]
  },
  {
   "cell_type": "code",
   "execution_count": 5,
   "metadata": {},
   "outputs": [
    {
     "data": {
      "text/plain": [
       "0.6339134834642708"
      ]
     },
     "execution_count": 5,
     "metadata": {},
     "output_type": "execute_result"
    }
   ],
   "source": [
    "q.ppf(0.8)  # Quantile (inverse cdf) function"
   ]
  },
  {
   "cell_type": "code",
   "execution_count": 6,
   "metadata": {},
   "outputs": [
    {
     "data": {
      "text/plain": [
       "0.5"
      ]
     },
     "execution_count": 6,
     "metadata": {},
     "output_type": "execute_result"
    }
   ],
   "source": [
    "q.mean()"
   ]
  },
  {
   "cell_type": "markdown",
   "metadata": {},
   "source": [
    "The general syntax for reating these objects is\n",
    "\n",
    "`identifier = scipy.stats.distribution_name(shape_parameters)`\n",
    "\n",
    "Where `distribution_name` is one of the distribution names in `scipy.stats`\n",
    "\n",
    "There are also two keyword arguments, `loc` and `scale` that can be added:\n",
    "\n",
    "`identifier = scipy.stats.distribution_name(shape_parameters, loc=c, scale=d)`\n",
    "\n",
    "These transform the orginal random variable $X$ into $Y = c + dX$\n",
    "\n",
    "The methods, `rvs`, `pdf`, `cdf`, etc are all transformed accordingly. "
   ]
  },
  {
   "cell_type": "markdown",
   "metadata": {},
   "source": [
    "There is also an alternative way of calling these methods. The previous code could be called as follows"
   ]
  },
  {
   "cell_type": "code",
   "execution_count": 7,
   "metadata": {},
   "outputs": [
    {
     "data": {
      "image/png": "[encoded data removed]",
      "text/plain": [
       "<matplotlib.figure.Figure at 0x109a13438>"
      ]
     },
     "metadata": {},
     "output_type": "display_data"
    }
   ],
   "source": [
    "from scipy.stats import beta\n",
    "import matplotlib.pyplot as plt\n",
    "\n",
    "obs = beta.rvs(5, 5, size=2000)     # using the beta object directly\n",
    "grid = np.linspace(0.01, 0.99, 100)\n",
    "\n",
    "fig, ax = plt.subplots(figsize=(10,6))\n",
    "ax.hist(obs, bins=40, normed=True)\n",
    "ax.plot(grid, beta.pdf(grid, 5, 5), 'k-', linewidth=2, label='pdf')      # using the beta object directly\n",
    "ax.plot(grid, beta.cdf(grid, 5, 5), 'r-', linewidth=2, label='cdf')      # using the beta object directly\n",
    "ax.plot(grid, beta.ppf(grid, 5, 5), 'g-', linewidth=2, label='ppf')      # using the beta object directly\n",
    "ax.legend()\n",
    "plt.show()"
   ]
  },
  {
   "cell_type": "markdown",
   "metadata": {},
   "source": [
    "#### There are other goodies in scipy.stats\n",
    "\n",
    "There are a variety of statistical functions in `scipy.stats`\n",
    "\n",
    "For example `scipy.stats.linregress` implements simple linear regression."
   ]
  },
  {
   "cell_type": "code",
   "execution_count": 8,
   "metadata": {},
   "outputs": [
    {
     "data": {
      "text/plain": [
       "(1.988986046841961, -0.0021577967171208523)"
      ]
     },
     "execution_count": 8,
     "metadata": {},
     "output_type": "execute_result"
    }
   ],
   "source": [
    "from scipy.stats import linregress\n",
    "\n",
    "x = np.random.randn(200)\n",
    "y = 2 * x + 0.1 * np.random.randn(200)\n",
    "gradient, intercept, r_value, p_value, std_err = linregress(x, y)\n",
    "gradient, intercept"
   ]
  },
  {
   "cell_type": "markdown",
   "metadata": {},
   "source": [
    "## Roots and Fixed Points\n",
    "\n",
    "A *root* of a real function $f$ on $[a,b]$ is an $x \\in [a,b]$ such that $f(x) = 0$\n",
    "\n",
    "For example , if we plot the function\n",
    "\n",
    "$$f(x)=\\sin(4(x−1/4))+x+x^{20}−1$$\n",
    "\n",
    "with $x \\in [0,1]$, we get"
   ]
  },
  {
   "cell_type": "code",
   "execution_count": 9,
   "metadata": {},
   "outputs": [
    {
     "data": {
      "image/png": "[encoded data removed]",
      "text/plain": [
       "<matplotlib.figure.Figure at 0x109a27208>"
      ]
     },
     "metadata": {},
     "output_type": "display_data"
    }
   ],
   "source": [
    "f = lambda x : np.sin(4*(x-1/4)) + x + x**20 - 1\n",
    "x = np.linspace(0,1,100)\n",
    "\n",
    "plt.figure(figsize=(10,8))\n",
    "plt.plot(x, f(x))\n",
    "plt.axhline(ls='--' , c='k')\n",
    "plt.show()"
   ]
  },
  {
   "cell_type": "markdown",
   "metadata": {},
   "source": [
    "The unique root is approximately 0.408\n",
    "\n",
    "Here's some numerical techniques for finding roots"
   ]
  },
  {
   "cell_type": "markdown",
   "metadata": {},
   "source": [
    "### Bisection\n",
    "\n",
    "One of the most common algorithms for numerical root finging is *bisection*.\n",
    "\n",
    "Basically bisect over the interval, if f is grater than 0, bisect smaller interval other bisect larger interval, and so on.\n",
    "\n",
    "Here's a basic implementation, that works on all sufficiently well behaved functions such that $f(a) < 0 < f(b)$"
   ]
  },
  {
   "cell_type": "code",
   "execution_count": 10,
   "metadata": {},
   "outputs": [
    {
     "data": {
      "text/plain": [
       "0.408294677734375"
      ]
     },
     "execution_count": 10,
     "metadata": {},
     "output_type": "execute_result"
    }
   ],
   "source": [
    "def bisect(f, a, b, tol=10e-5):\n",
    "    \n",
    "    lower, upper = a, b\n",
    "    \n",
    "    while (upper - lower) > tol:\n",
    "        middle = 0.5 * (upper+lower)\n",
    "        if f(middle) > 0:\n",
    "            lower, upper = lower, middle\n",
    "        else:\n",
    "            lower, upper = middle, upper\n",
    "            \n",
    "    return 0.5*(upper+lower) \n",
    "\n",
    "bisect(f, 0, 1)"
   ]
  },
  {
   "cell_type": "markdown",
   "metadata": {},
   "source": [
    "Scipy has it's own implementation of the bisect function:"
   ]
  },
  {
   "cell_type": "code",
   "execution_count": 11,
   "metadata": {},
   "outputs": [
    {
     "data": {
      "text/plain": [
       "0.4082935042806639"
      ]
     },
     "execution_count": 11,
     "metadata": {},
     "output_type": "execute_result"
    }
   ],
   "source": [
    "from scipy.optimize import bisect\n",
    "\n",
    "bisect(f, 0, 1)"
   ]
  },
  {
   "cell_type": "markdown",
   "metadata": {},
   "source": [
    "### The Newton-Raphson Method\n",
    "\n",
    "Another very common root-finding algorithm is the Newton-Raphson Method (`scipy.optimize.newton`)\n",
    "\n",
    "Unlike bisection this method uses local slope information.\n",
    "\n",
    "* When the function is well-behaved, the Newton-Raphson method is faster than bisection\n",
    "* When the function is less well-behvaed, the Newton-Raphson method may not converge\n",
    "\n",
    "Here an example of an instability of using Newton-Raphson on our function\n"
   ]
  },
  {
   "cell_type": "code",
   "execution_count": 12,
   "metadata": {},
   "outputs": [
    {
     "data": {
      "text/plain": [
       "0.4082935042793568"
      ]
     },
     "execution_count": 12,
     "metadata": {},
     "output_type": "execute_result"
    }
   ],
   "source": [
    "from scipy.optimize import newton\n",
    "\n",
    "newton(f, 0.2)"
   ]
  },
  {
   "cell_type": "code",
   "execution_count": 13,
   "metadata": {},
   "outputs": [
    {
     "data": {
      "text/plain": [
       "0.7001700000000282"
      ]
     },
     "execution_count": 13,
     "metadata": {},
     "output_type": "execute_result"
    }
   ],
   "source": [
    "newton(f, 0.7, maxiter=50)"
   ]
  },
  {
   "cell_type": "code",
   "execution_count": 14,
   "metadata": {},
   "outputs": [
    {
     "data": {
      "text/plain": [
       "-1.0264575851993918"
      ]
     },
     "execution_count": 14,
     "metadata": {},
     "output_type": "execute_result"
    }
   ],
   "source": [
    "newton(f, 0.9, maxiter=50)"
   ]
  },
  {
   "cell_type": "markdown",
   "metadata": {},
   "source": [
    "It fails to converge at initial starting point of 0.7 as well as 0.9\n"
   ]
  },
  {
   "cell_type": "markdown",
   "metadata": {},
   "source": [
    "However, using the python `timeit` magic we can see: "
   ]
  },
  {
   "cell_type": "code",
   "execution_count": 15,
   "metadata": {},
   "outputs": [
    {
     "name": "stdout",
     "output_type": "stream",
     "text": [
      "114 µs ± 4.85 µs per loop (mean ± std. dev. of 7 runs, 10000 loops each)\n"
     ]
    }
   ],
   "source": [
    "%timeit bisect(f, 0, 1)"
   ]
  },
  {
   "cell_type": "code",
   "execution_count": 16,
   "metadata": {},
   "outputs": [
    {
     "name": "stdout",
     "output_type": "stream",
     "text": [
      "30.1 µs ± 1.49 µs per loop (mean ± std. dev. of 7 runs, 10000 loops each)\n"
     ]
    }
   ],
   "source": [
    "%timeit newton(f, 0.2)"
   ]
  },
  {
   "cell_type": "markdown",
   "metadata": {},
   "source": [
    "We see that `newton` can be much faster than `bisect`."
   ]
  },
  {
   "cell_type": "markdown",
   "metadata": {},
   "source": [
    "### Hybrid Methods\n",
    "\n",
    "So far we have seen that the Newton-Raphson methos fast, but not robust, whereas the bisection method is robust but relatively slow.\n",
    "\n",
    "This illustrates a general principle\n",
    "\n",
    "* If you have specific knowledge about your function, you might be able to exploit it to generate efficiency\n",
    "* If not, then the algorithm choice involves a trade-off between speed of convergence and robustness\n",
    "\n",
    "In practice, most default algorithms for root finding, optimization and fixed points use hybrid methods\n",
    "\n",
    "These methods typically combine a fast method with a robust method in the following manner:\n",
    "\n",
    "* Attempt to use a fast method\n",
    "* Check diagnostics\n",
    "* If diagnostics are bad, then switch to a more robust algorithm\n",
    "\n",
    "In `scipy.optimize` he function `brentq` is a hybrid method and a good default\n"
   ]
  },
  {
   "cell_type": "code",
   "execution_count": 17,
   "metadata": {},
   "outputs": [
    {
     "data": {
      "text/plain": [
       "0.40829350427936706"
      ]
     },
     "execution_count": 17,
     "metadata": {},
     "output_type": "execute_result"
    }
   ],
   "source": [
    "from scipy.optimize import brentq\n",
    "\n",
    "brentq(f, 0, 1)"
   ]
  },
  {
   "cell_type": "code",
   "execution_count": 18,
   "metadata": {},
   "outputs": [
    {
     "name": "stdout",
     "output_type": "stream",
     "text": [
      "32.1 µs ± 1.63 µs per loop (mean ± std. dev. of 7 runs, 10000 loops each)\n"
     ]
    }
   ],
   "source": [
    "%timeit brentq(f, 0, 1)"
   ]
  },
  {
   "cell_type": "markdown",
   "metadata": {},
   "source": [
    "Here the correct solution is found and it is almost as fast as N-R "
   ]
  },
  {
   "cell_type": "markdown",
   "metadata": {},
   "source": [
    "### Mutivariate root finding\n",
    "\n",
    "Use `scipy.optimize.fsolve` - a wrapper for ahybrid method in MINPACK "
   ]
  },
  {
   "cell_type": "markdown",
   "metadata": {},
   "source": [
    "### Fixed points\n",
    "\n",
    "SciPy has a function for finding (scalar) fixed points too\n",
    "\n",
    "A fixed point is the value $x$ such that $f(x) = x$"
   ]
  },
  {
   "cell_type": "code",
   "execution_count": 19,
   "metadata": {},
   "outputs": [
    {
     "data": {
      "text/plain": [
       "array(1.)"
      ]
     },
     "execution_count": 19,
     "metadata": {},
     "output_type": "execute_result"
    }
   ],
   "source": [
    "from scipy.optimize import fixed_point\n",
    "\n",
    "fixed_point(lambda x: x**2, 10.0)   # 10.0 is the initial guess"
   ]
  },
  {
   "cell_type": "markdown",
   "metadata": {},
   "source": [
    "If you don't get good results, you can always revert to `brentq`, since the fixed point of a function $f$ is the root of $g(x) := x - f(x)$"
   ]
  },
  {
   "cell_type": "code",
   "execution_count": 20,
   "metadata": {},
   "outputs": [
    {
     "data": {
      "text/plain": [
       "1.0"
      ]
     },
     "execution_count": 20,
     "metadata": {},
     "output_type": "execute_result"
    }
   ],
   "source": [
    "from scipy.optimize import brentq\n",
    "\n",
    "brentq(lambda x : x - x**2, 0.01, 10)"
   ]
  },
  {
   "cell_type": "markdown",
   "metadata": {},
   "source": [
    "## Optimization"
   ]
  },
  {
   "cell_type": "markdown",
   "metadata": {},
   "source": [
    "Most numerical packages only provide functions for *minimization*\n",
    "\n",
    "Maximization can be performed by recalling that the maximizer of a function $f$ on domain $D$ is just the minimizer of $-f$ on $D$ \n",
    "\n",
    "Minimization is closely related to root finding. For smooth functions, interior optima correspond to roots of the first derivative.\n",
    "\n",
    "The speed/robustness trade-offs described earlier applies to minimizations aswell.\n",
    "\n",
    "Unless you have some prior knowledge about $f$ you can exploit, is best to use hybrid methods.\n",
    "\n",
    "For constraint, univariate (i.e. scalar) minimization, a good hybrid option is `fminbound`"
   ]
  },
  {
   "cell_type": "code",
   "execution_count": 24,
   "metadata": {},
   "outputs": [
    {
     "data": {
      "text/plain": [
       "0.0"
      ]
     },
     "execution_count": 24,
     "metadata": {},
     "output_type": "execute_result"
    }
   ],
   "source": [
    "from scipy.optimize import fminbound\n",
    "\n",
    "fminbound(lambda x: x**2, -1, 2)  # Search in [-1, 2]"
   ]
  },
  {
   "cell_type": "markdown",
   "metadata": {},
   "source": [
    "### Multivariate Optimization\n",
    "\n",
    "There are a number of optimizes to use (google them). These include\n",
    "\n",
    "* `minimize`\n",
    "* `fmin`\n",
    "* `fmin_powell`\n",
    "* `fmin_bfgs`\n",
    "* etc, etc, etc\n",
    "\n",
    "See the documentation for details\n"
   ]
  },
  {
   "cell_type": "markdown",
   "metadata": {},
   "source": [
    "## Integration\n",
    "\n",
    "Most numerical integration ethods work by computing the integral of an approximating polynomial.\n",
    "\n",
    "The resulting error depends on how well the poluynomial fits the integrand.\n",
    "\n",
    "The relevant package is `scipy.integrate`\n",
    "\n",
    "A good default for univariate integration is `quad`"
   ]
  },
  {
   "cell_type": "code",
   "execution_count": 25,
   "metadata": {},
   "outputs": [
    {
     "name": "stdout",
     "output_type": "stream",
     "text": [
      "0.33333333333333337\n",
      "3.700743415417189e-15\n"
     ]
    }
   ],
   "source": [
    "from scipy.integrate import quad\n",
    "\n",
    "integral, error = quad(lambda x: x**2, 0, 1)\n",
    "print(integral)\n",
    "print(error)"
   ]
  },
  {
   "cell_type": "markdown",
   "metadata": {},
   "source": [
    "Read the docs on `quad` - it uses a very standard numerical integration routing in the FORTRAN library QUADPACK\n",
    "\n",
    "The are other option for univariate integration, for example `fixed_quad` which is fast and works well in for loops.\n",
    "\n",
    "There are also methods for multivariate integration.\n",
    "\n",
    "Google it and read the docs."
   ]
  },
  {
   "cell_type": "markdown",
   "metadata": {},
   "source": [
    "## Linear Algebra\n",
    "\n",
    "NumPy provides a module for linear algebra, `linalg`\n",
    "\n",
    "SciPy also provides a module for linear algebra with the same name. \n",
    "\n",
    "The SciPy version is not an exact superset of the NumPy version, but overall has more functionality.\n",
    "\n",
    "Goole it and read the docs."
   ]
  },
  {
   "cell_type": "markdown",
   "metadata": {},
   "source": [
    "## Exercises\n",
    "\n",
    "### Exercise 1\n",
    "\n",
    "Previously we discussed the concept of recursive function calls.\n",
    "\n",
    "Write a recursive implementation of the bisection function described above, which we repeat here for convenience\n",
    "\n",
    "```python\n",
    "def bisect(f, a, b, tol=10e-5):\n",
    "    \"\"\"\n",
    "    Implements the bisection root finding algorithm, assuming that f is a\n",
    "    real-valued function on [a, b] satisfying f(a) < 0 < f(b).\n",
    "    \"\"\"\n",
    "    lower, upper = a, b\n",
    "\n",
    "    while upper - lower > tol:\n",
    "        middle = 0.5 * (upper + lower)\n",
    "        # === if root is between lower and middle === #\n",
    "        if f(middle) > 0:\n",
    "            lower, upper = lower, middle\n",
    "        # === if root is between middle and upper  === #\n",
    "        else:              \n",
    "            lower, upper = middle, upper\n",
    "\n",
    "    return 0.5 * (upper + lower)\n",
    "```"
   ]
  },
  {
   "cell_type": "code",
   "execution_count": 27,
   "metadata": {},
   "outputs": [],
   "source": [
    "def bisect(f, a, b, tol=10e-5):\n",
    "    \n",
    "    lower, upper = a, b\n",
    "    \n",
    "    if (upper - lower) < tol:\n",
    "        return 0.5 * (upper + lower)\n",
    "    else:\n",
    "        middle = 0.5 * (upper + lower)\n",
    "        print(f'Current middle is {middle}')\n",
    "        if f(middle) > 0:\n",
    "            bisect(f, lower, middle)\n",
    "        else:\n",
    "            bisect(f, middle, upper)\n",
    "            "
   ]
  },
  {
   "cell_type": "code",
   "execution_count": 28,
   "metadata": {},
   "outputs": [
    {
     "name": "stdout",
     "output_type": "stream",
     "text": [
      "Current middle is 0.5\n",
      "Current middle is 0.25\n",
      "Current middle is 0.375\n",
      "Current middle is 0.4375\n",
      "Current middle is 0.40625\n",
      "Current middle is 0.421875\n",
      "Current middle is 0.4140625\n",
      "Current middle is 0.41015625\n",
      "Current middle is 0.408203125\n",
      "Current middle is 0.4091796875\n",
      "Current middle is 0.40869140625\n",
      "Current middle is 0.408447265625\n",
      "Current middle is 0.4083251953125\n",
      "Current middle is 0.40826416015625\n"
     ]
    }
   ],
   "source": [
    "f = lambda x: np.sin(4 * (x - 0.25)) + x + x**20 - 1\n",
    "bisect(f,0,1)"
   ]
  },
  {
   "cell_type": "code",
   "execution_count": null,
   "metadata": {},
   "outputs": [],
   "source": []
  }
 ],
 "metadata": {
  "kernelspec": {
   "display_name": "Python 3",
   "language": "python",
   "name": "python3"
  },
  "language_info": {
   "codemirror_mode": {
    "name": "ipython",
    "version": 3
   },
   "file_extension": ".py",
   "mimetype": "text/x-python",
   "name": "python",
   "nbconvert_exporter": "python",
   "pygments_lexer": "ipython3",
   "version": "3.6.4"
  }
 },
 "nbformat": 4,
 "nbformat_minor": 2
}
