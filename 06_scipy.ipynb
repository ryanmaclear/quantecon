{
 "cells": [
  {
   "cell_type": "markdown",
   "metadata": {},
   "source": [
    "# SciPy"
   ]
  },
  {
   "cell_type": "markdown",
   "metadata": {},
   "source": [
    "SciPy build on top of NumPy to provide common tools for scientific programming. For example, it providees, amongst others:\n",
    "\n",
    "* linear algebra\n",
    "* numerical integration\n",
    "* interpolation\n",
    "* optimiation\n",
    "* distributions and random number generators\n",
    "* signal processing\n",
    "* etc...\n",
    "\n",
    "Here's some of the highlights of the package (there are many many more features - google it)\n"
   ]
  },
  {
   "cell_type": "markdown",
   "metadata": {},
   "source": [
    "## SciPy vs NumPy\n",
    "\n",
    "SciPy is apackage that contains various tools built on top of NumPy using it's array data type and elated functionality.\n",
    "\n",
    "When we import scipy we get numpy, however it's more common to explicitly import it.\n",
    "\n",
    "What is useful on scipy is functionality in it's subpackages, for example:\n",
    "\n",
    "`scipy.optimize`, `scipy.integrate`, `scipy.stats`, etc."
   ]
  },
  {
   "cell_type": "markdown",
   "metadata": {},
   "source": [
    "## Statistics\n",
    "\n",
    "The `scipy.stats` subpackage supplies\n",
    "\n",
    "* numerous random vaiable objects (densities, cumulative distributions, random sampling, etc)\n",
    "* some estimation procedures\n",
    "* some statistical tests\n"
   ]
  },
  {
   "cell_type": "markdown",
   "metadata": {},
   "source": [
    "### Random Variables and Distributions\n",
    "\n",
    "Recall `numpy.random` provies functions for generation random variables:"
   ]
  },
  {
   "cell_type": "code",
   "execution_count": 1,
   "metadata": {},
   "outputs": [
    {
     "data": {
      "text/plain": [
       "array([0.47864028, 0.64395097, 0.30671341])"
      ]
     },
     "execution_count": 1,
     "metadata": {},
     "output_type": "execute_result"
    }
   ],
   "source": [
    "import numpy as np\n",
    "\n",
    "np.random.beta(5, 5, size=3)"
   ]
  },
  {
   "cell_type": "markdown",
   "metadata": {},
   "source": [
    "This generates a draw from the distribution below when `a, b = 5, 5`"
   ]
  },
  {
   "cell_type": "markdown",
   "metadata": {},
   "source": [
    "$$f(x;a, b) = {{x^{(a-1)}(1-x)^{(b-1)}} \\over {\\int_{0}^{1} u^{(a-1)}u^{(b-1)}du}} \\quad \\quad (0 \\le x \\le 1)$$ "
   ]
  },
  {
   "cell_type": "markdown",
   "metadata": {},
   "source": [
    "Sometimes we need access to the density, or the cumulative distribution function (cdf), the quantiles, etc\n",
    "\n",
    "For this we can use `scipy.stats`, which provides all the functionality as well as random number generation in a single consistant interface\n",
    "\n",
    "Here's an example of usage:"
   ]
  },
  {
   "cell_type": "code",
   "execution_count": null,
   "metadata": {},
   "outputs": [],
   "source": []
  }
 ],
 "metadata": {
  "kernelspec": {
   "display_name": "Python 3",
   "language": "python",
   "name": "python3"
  },
  "language_info": {
   "codemirror_mode": {
    "name": "ipython",
    "version": 3
   },
   "file_extension": ".py",
   "mimetype": "text/x-python",
   "name": "python",
   "nbconvert_exporter": "python",
   "pygments_lexer": "ipython3",
   "version": "3.6.4"
  }
 },
 "nbformat": 4,
 "nbformat_minor": 2
}
